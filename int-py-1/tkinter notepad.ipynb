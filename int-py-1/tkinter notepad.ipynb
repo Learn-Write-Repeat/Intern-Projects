{
 "cells": [
  {
   "cell_type": "code",
   "execution_count": 11,
   "metadata": {},
   "outputs": [],
   "source": [
    "import tkinter as tk\n",
    "from tkinter.filedialog import askopenfilename, asksaveasfilename\n",
    "\n",
    "def open_file():\n",
    "   \n",
    "    filepath = askopenfilename(\n",
    "        filetypes=[(\"Text files\", \"*.txt\"),(\"Python files\",\"*.py\") ,(\"All Files\", \"*.*\"),]\n",
    "    )\n",
    "    if not filepath:\n",
    "        return\n",
    "    txt_edit.delete(1.0, tk.END)\n",
    "    with open(filepath, \"r\") as input_file:\n",
    "        text = input_file.read()\n",
    "        txt_edit.insert(tk.END, text)\n",
    "    window.title(f\"devinceptnotepad - {filepath}\")\n",
    "\n",
    "def save_file():\n",
    "   \n",
    "    filepath = asksaveasfilename(\n",
    "        defaultextension=\"txt\",\n",
    "        filetypes=[(\"Text files\", \"*.txt\"),(\"Python files\",\"*.py\") ,(\"All Files\", \"*.*\"),],\n",
    "    )\n",
    "    if not filepath:\n",
    "        return\n",
    "    with open(filepath, \"w\") as output_file:\n",
    "        text = txt_edit.get(1.0, tk.END)\n",
    "        output_file.write(text)\n",
    "    window.title(f\"devinceptnotepad - {filepath}\")\n",
    "\n",
    "window = tk.Tk()\n",
    "window.title(\"devinceptnotepad\")\n",
    "window.rowconfigure(0, minsize=800, weight=1)\n",
    "window.columnconfigure(1, minsize=800, weight=1)\n",
    "\n",
    "txt_edit = tk.Text(window)\n",
    "fr_buttons = tk.Frame(window, relief=tk.RAISED, bd=2)\n",
    "btn_open = tk.Button(fr_buttons, text=\"Open\", command=open_file)\n",
    "btn_save = tk.Button(fr_buttons, text=\"Save As\", command=save_file)\n",
    "\n",
    "\n",
    "btn_open.grid(row=0, column=0, sticky=\"ew\", padx=5, pady=5)\n",
    "btn_save.grid(row=1, column=0, sticky=\"ew\", padx=5)\n",
    "\n",
    "fr_buttons.grid(row=0, column=0, sticky=\"ns\")\n",
    "txt_edit.grid(row=0, column=1, sticky=\"nsew\")\n",
    "\n",
    "window.mainloop()"
   ]
  },
  {
   "cell_type": "markdown",
   "metadata": {},
   "source": []
  },
  {
   "cell_type": "code",
   "execution_count": null,
   "metadata": {},
   "outputs": [],
   "source": []
  }
 ],
 "metadata": {
  "kernelspec": {
   "display_name": "Python 3",
   "language": "python",
   "name": "python3"
  },
  "language_info": {
   "codemirror_mode": {
    "name": "ipython",
    "version": 3
   },
   "file_extension": ".py",
   "mimetype": "text/x-python",
   "name": "python",
   "nbconvert_exporter": "python",
   "pygments_lexer": "ipython3",
   "version": "3.8.3"
  }
 },
 "nbformat": 4,
 "nbformat_minor": 4
}
